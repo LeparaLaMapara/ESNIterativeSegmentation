{
 "cells": [
  {
   "cell_type": "code",
   "execution_count": 36,
   "metadata": {
    "scrolled": true
   },
   "outputs": [
    {
     "name": "stdout",
     "output_type": "stream",
     "text": [
      "(481, 321, 3)\n"
     ]
    },
    {
     "data": {
      "text/plain": [
       "array([[ 27,  25,  24, ..., 225, 193, 134],\n",
       "       [ 28,  34,  56, ..., 235, 236, 241],\n",
       "       [ 77, 129, 154, ..., 230, 230, 226],\n",
       "       ...,\n",
       "       [144, 142, 143, ..., 183, 182, 177],\n",
       "       [148, 144, 143, ..., 178, 178, 177],\n",
       "       [145, 143, 142, ..., 181, 179, 180]], dtype=uint8)"
      ]
     },
     "execution_count": 36,
     "metadata": {},
     "output_type": "execute_result"
    }
   ],
   "source": [
    "from PIL import Image\n",
    "import numpy as np\n",
    "import matplotlib.pyplot  as plt \n",
    "image = np.array(Image.open('19.jpg'))\n",
    "print(image.shape)\n",
    "image[:,:,0]"
   ]
  },
  {
   "cell_type": "code",
   "execution_count": 34,
   "metadata": {},
   "outputs": [
    {
     "name": "stdout",
     "output_type": "stream",
     "text": [
      "(481, 321, 2)\n"
     ]
    },
    {
     "data": {
      "text/plain": [
       "array([[ 29,  27,  28, ..., 240, 208, 136],\n",
       "       [ 33,  39,  63, ..., 249, 249, 250],\n",
       "       [ 88, 140, 166, ..., 247, 247, 245],\n",
       "       ...,\n",
       "       [167, 165, 166, ..., 219, 218, 211],\n",
       "       [171, 167, 166, ..., 214, 214, 211],\n",
       "       [169, 167, 166, ..., 217, 215, 214]], dtype=uint8)"
      ]
     },
     "execution_count": 34,
     "metadata": {},
     "output_type": "execute_result"
    }
   ],
   "source": [
    "image = np.array(Image.open('19.jpg').convert('LA')  )\n",
    "print(image.shape)\n",
    "image[:,:,0]"
   ]
  },
  {
   "cell_type": "code",
   "execution_count": null,
   "metadata": {},
   "outputs": [],
   "source": []
  }
 ],
 "metadata": {
  "kernelspec": {
   "display_name": "Python 3",
   "language": "python",
   "name": "python3"
  },
  "language_info": {
   "codemirror_mode": {
    "name": "ipython",
    "version": 3
   },
   "file_extension": ".py",
   "mimetype": "text/x-python",
   "name": "python",
   "nbconvert_exporter": "python",
   "pygments_lexer": "ipython3",
   "version": "3.7.3"
  }
 },
 "nbformat": 4,
 "nbformat_minor": 2
}
